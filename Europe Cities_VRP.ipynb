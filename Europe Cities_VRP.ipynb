{
 "cells": [
  {
   "cell_type": "code",
   "execution_count": 2,
   "metadata": {},
   "outputs": [],
   "source": [
    "from pulp import *\n",
    "import numpy as np\n",
    "import pandas as pd\n",
    "import matplotlib.pyplot as plt\n",
    "%matplotlib inline\n",
    "import seaborn as sn"
   ]
  },
  {
   "cell_type": "code",
   "execution_count": 2,
   "metadata": {},
   "outputs": [
    {
     "name": "stdout",
     "output_type": "stream",
     "text": [
      "Requirement already satisfied: gurobipy in c:\\users\\owner\\anaconda3\\lib\\site-packages (10.0.1)\n",
      "\n",
      "[notice] A new release of pip available: 22.1.2 -> 23.1.2\n",
      "[notice] To update, run: python.exe -m pip install --upgrade pip\n",
      "Note: you may need to restart the kernel to use updated packages.\n"
     ]
    },
    {
     "name": "stderr",
     "output_type": "stream",
     "text": [
      "WARNING: Ignoring invalid distribution -umpy (c:\\users\\owner\\anaconda3\\lib\\site-packages)\n",
      "WARNING: Ignoring invalid distribution -ffi (c:\\users\\owner\\anaconda3\\lib\\site-packages)\n",
      "WARNING: Ignoring invalid distribution -umpy (c:\\users\\owner\\anaconda3\\lib\\site-packages)\n",
      "WARNING: Ignoring invalid distribution -ffi (c:\\users\\owner\\anaconda3\\lib\\site-packages)\n",
      "WARNING: Ignoring invalid distribution -umpy (c:\\users\\owner\\anaconda3\\lib\\site-packages)\n",
      "WARNING: Ignoring invalid distribution -ffi (c:\\users\\owner\\anaconda3\\lib\\site-packages)\n",
      "WARNING: Ignoring invalid distribution -umpy (c:\\users\\owner\\anaconda3\\lib\\site-packages)\n",
      "WARNING: Ignoring invalid distribution -ffi (c:\\users\\owner\\anaconda3\\lib\\site-packages)\n",
      "WARNING: Ignoring invalid distribution -umpy (c:\\users\\owner\\anaconda3\\lib\\site-packages)\n",
      "WARNING: Ignoring invalid distribution -ffi (c:\\users\\owner\\anaconda3\\lib\\site-packages)\n",
      "WARNING: Ignoring invalid distribution -umpy (c:\\users\\owner\\anaconda3\\lib\\site-packages)\n",
      "WARNING: Ignoring invalid distribution -ffi (c:\\users\\owner\\anaconda3\\lib\\site-packages)\n"
     ]
    }
   ],
   "source": [
    "pip install gurobipy"
   ]
  },
  {
   "cell_type": "code",
   "execution_count": 4,
   "metadata": {},
   "outputs": [
    {
     "data": {
      "text/html": [
       "<div>\n",
       "<style scoped>\n",
       "    .dataframe tbody tr th:only-of-type {\n",
       "        vertical-align: middle;\n",
       "    }\n",
       "\n",
       "    .dataframe tbody tr th {\n",
       "        vertical-align: top;\n",
       "    }\n",
       "\n",
       "    .dataframe thead th {\n",
       "        text-align: right;\n",
       "    }\n",
       "</style>\n",
       "<table border=\"1\" class=\"dataframe\">\n",
       "  <thead>\n",
       "    <tr style=\"text-align: right;\">\n",
       "      <th></th>\n",
       "      <th>latitude</th>\n",
       "      <th>longitude</th>\n",
       "    </tr>\n",
       "    <tr>\n",
       "      <th>City</th>\n",
       "      <th></th>\n",
       "      <th></th>\n",
       "    </tr>\n",
       "  </thead>\n",
       "  <tbody>\n",
       "    <tr>\n",
       "      <td>Barcelona</td>\n",
       "      <td>41.3888</td>\n",
       "      <td>2.1590</td>\n",
       "    </tr>\n",
       "    <tr>\n",
       "      <td>Belgrade</td>\n",
       "      <td>44.8040</td>\n",
       "      <td>20.4651</td>\n",
       "    </tr>\n",
       "    <tr>\n",
       "      <td>Berlin</td>\n",
       "      <td>52.5244</td>\n",
       "      <td>13.4105</td>\n",
       "    </tr>\n",
       "    <tr>\n",
       "      <td>Brussels</td>\n",
       "      <td>50.8505</td>\n",
       "      <td>4.3488</td>\n",
       "    </tr>\n",
       "    <tr>\n",
       "      <td>Bucharest</td>\n",
       "      <td>44.4323</td>\n",
       "      <td>26.1063</td>\n",
       "    </tr>\n",
       "  </tbody>\n",
       "</table>\n",
       "</div>"
      ],
      "text/plain": [
       "           latitude  longitude\n",
       "City                          \n",
       "Barcelona   41.3888     2.1590\n",
       "Belgrade    44.8040    20.4651\n",
       "Berlin      52.5244    13.4105\n",
       "Brussels    50.8505     4.3488\n",
       "Bucharest   44.4323    26.1063"
      ]
     },
     "execution_count": 4,
     "metadata": {},
     "output_type": "execute_result"
    }
   ],
   "source": [
    "#a handful of sites\n",
    "sites = ['Barcelona','Belgrade','Berlin','Brussels','Bucharest','Budapest','Copenhagen','Dublin','Hamburg','Istanbul','Kiev','London','Madrid','Milan','Moscow','Munich','Paris','Prague','Rome','Saint Petersburg','Sofia','Stockholm','Vienna','Warsaw']\n",
    "# sites = ['Barcelona','Belgrade','Berlin','Brussels','Bucharest','Budapest','Copenhagen']\n",
    "latlng = ['latitude', 'longitude']\n",
    "position = pd.read_csv('./data/position.csv', index_col=\"City\")\n",
    "flighttime = pd.read_csv('./data/flight_time.csv', index_col=\"City\")\n",
    "distance = pd.read_csv('./data/distance.csv', index_col=\"City\")\n",
    "position.head(5)\n",
    "# print(len(sites))"
   ]
  },
  {
   "cell_type": "code",
   "execution_count": 5,
   "metadata": {},
   "outputs": [
    {
     "data": {
      "image/png": "[encoded data removed]",
      "text/plain": [
       "<Figure size 432x288 with 1 Axes>"
      ]
     },
     "metadata": {
      "needs_background": "light"
     },
     "output_type": "display_data"
    }
   ],
   "source": [
    "#make some positions (so we can plot this)\n",
    "positions = dict( ( city, (position.loc[city, 'longitude'], position.loc[city, 'latitude']) ) for city in sites)\n",
    "for s in positions:\n",
    "    p = positions[s]\n",
    "    plt.plot(p[0],p[1],'o')\n",
    "    plt.text(p[0]+.01,p[1],s,horizontalalignment='left',verticalalignment='center')\n",
    "    \n",
    "plt.gca().axis('off');"
   ]
  },
  {
   "cell_type": "code",
   "execution_count": 6,
   "metadata": {},
   "outputs": [],
   "source": [
    "# get distanc between cities\n",
    "distances = dict( ((s1,s2), distance.loc[s1, s2] ) for s1 in positions for s2 in positions if s1!=s2)"
   ]
  },
  {
   "cell_type": "code",
   "execution_count": 7,
   "metadata": {},
   "outputs": [],
   "source": [
    "K = 4 #the number of sales people \n",
    "#create the problme\n",
    "prob=LpProblem(\"vehicle\", LpMinimize)"
   ]
  },
  {
   "cell_type": "code",
   "execution_count": 8,
   "metadata": {},
   "outputs": [],
   "source": [
    "#indicator variable if site i is connected to site j in the tour\n",
    "x = LpVariable.dicts('x',distances, 0,1,LpBinary)\n",
    "#dummy vars to eliminate subtours\n",
    "u = LpVariable.dicts('u', sites, 0, len(sites)-1, LpInteger)\n",
    "#the objective\n",
    "cost = lpSum([x[(i,j)]*distances[(i,j)] for (i,j) in distances])\n",
    "prob+=cost"
   ]
  },
  {
   "cell_type": "code",
   "execution_count": 9,
   "metadata": {},
   "outputs": [],
   "source": [
    "#constraints\n",
    "for k in sites:\n",
    "    cap = 1 if k != 'Berlin' else K\n",
    "    #inbound connection\n",
    "    prob+= lpSum([ x[(i,k)] for i in sites if (i,k) in x]) ==cap\n",
    "    #outbound connection\n",
    "    prob+=lpSum([ x[(k,i)] for i in sites if (k,i) in x]) ==cap\n",
    "    \n",
    "#subtour elimination\n",
    "N=len(sites)/K\n",
    "for i in sites:\n",
    "    for j in sites:\n",
    "        if i != j and (i != 'Berlin' and j!= 'Berlin') and (i,j) in x:\n",
    "            prob += u[i] - u[j] <= (N)*(1-x[(i,j)]) - 1"
   ]
  },
  {
   "cell_type": "code",
   "execution_count": 10,
   "metadata": {},
   "outputs": [
    {
     "name": "stdout",
     "output_type": "stream",
     "text": [
      "Wall time: 1h 4min 4s\n"
     ]
    },
    {
     "data": {
      "text/plain": [
       "1"
      ]
     },
     "execution_count": 10,
     "metadata": {},
     "output_type": "execute_result"
    }
   ],
   "source": [
    "%time prob.solve()\n",
    "#prob.solve(solver=GLPK_CMD(options=['--simplex']))"
   ]
  },
  {
   "cell_type": "code",
   "execution_count": 11,
   "metadata": {},
   "outputs": [],
   "source": [
    "non_zero_edges = [ e for e in x if value(x[e]) != 0 ]\n",
    "\n",
    "def get_next_site(parent):\n",
    "    '''helper function to get the next edge'''\n",
    "    edges = [e for e in non_zero_edges if e[0]==parent]\n",
    "    for e in edges:\n",
    "        non_zero_edges.remove(e)\n",
    "    return edges\n",
    "tours = get_next_site('Berlin')\n",
    "tours = [ [e] for e in tours ]\n",
    "\n",
    "for t in tours:\n",
    "    while t[-1][1] !='Berlin':\n",
    "        t.append(get_next_site(t[-1][1])[-1])"
   ]
  },
  {
   "cell_type": "code",
   "execution_count": 12,
   "metadata": {},
   "outputs": [
    {
     "name": "stdout",
     "output_type": "stream",
     "text": [
      "Berlin -> Brussels -> Paris -> London -> Dublin -> Hamburg -> Berlin\n",
      "Berlin -> Copenhagen -> Stockholm -> Saint Petersburg -> Moscow -> Kiev -> Warsaw -> Berlin\n",
      "Berlin -> Prague -> Rome -> Barcelona -> Madrid -> Milan -> Munich -> Berlin\n",
      "Berlin -> Vienna -> Belgrade -> Sofia -> Istanbul -> Bucharest -> Budapest -> Berlin\n"
     ]
    }
   ],
   "source": [
    "for t in tours:\n",
    "    print(' -> '.join([ a for a,b in t]+['Berlin']))"
   ]
  },
  {
   "cell_type": "code",
   "execution_count": 13,
   "metadata": {},
   "outputs": [
    {
     "name": "stdout",
     "output_type": "stream",
     "text": [
      "1988\n"
     ]
    }
   ],
   "source": [
    "totalTime = 0;\n",
    "for t in tours:\n",
    "    time = 0\n",
    "    for i in range(0, len(t)):\n",
    "        time += flighttime.loc[t[i][0], t[i][1]]\n",
    "#         print(flighttime.loc[t[i][0], t[i][1]])\n",
    "#     print(time)\n",
    "    if time > totalTime:\n",
    "        totalTime = time\n",
    "print(totalTime)"
   ]
  },
  {
   "cell_type": "code",
   "execution_count": 28,
   "metadata": {},
   "outputs": [
    {
     "data": {
      "image/png": "[encoded data removed]",
      "text/plain": [
       "<Figure size 432x288 with 1 Axes>"
      ]
     },
     "metadata": {
      "needs_background": "light"
     },
     "output_type": "display_data"
    }
   ],
   "source": [
    "#draw the tours\n",
    "colors = [np.random.rand(3) for i in range(len(tours))]\n",
    "for t,c in zip(tours,colors):\n",
    "    for a,b in t:\n",
    "        p1,p2 = positions[a], positions[b]\n",
    "        plt.plot([p1[0],p2[0]],[p1[1],p2[1]], color=c)\n",
    "\n",
    "#draw the map again\n",
    "for s in positions:\n",
    "    p = positions[s]\n",
    "    plt.plot(p[0],p[1],'o')\n",
    "    plt.text(p[0]+.01,p[1],s,horizontalalignment='left',verticalalignment='center')\n",
    "    \n",
    "plt.title('%d '%K + 'people' if K > 1 else 'person')\n",
    "plt.xlabel('latitude')\n",
    "plt.ylabel('longitude')\n",
    "# plt.gca().axis('off')\n",
    "plt.show()"
   ]
  },
  {
   "cell_type": "code",
   "execution_count": 1,
   "metadata": {},
   "outputs": [
    {
     "ename": "NameError",
     "evalue": "name 'totalTime' is not defined",
     "output_type": "error",
     "traceback": [
      "\u001b[1;31m---------------------------------------------------------------------------\u001b[0m",
      "\u001b[1;31mNameError\u001b[0m                                 Traceback (most recent call last)",
      "\u001b[1;32m<ipython-input-1-1d0a64cfab78>\u001b[0m in \u001b[0;36m<module>\u001b[1;34m\u001b[0m\n\u001b[1;32m----> 1\u001b[1;33m \u001b[0mprint\u001b[0m\u001b[1;33m(\u001b[0m\u001b[1;34m'Longest time spent:'\u001b[0m\u001b[1;33m,\u001b[0m \u001b[0mtotalTime\u001b[0m\u001b[1;33m,\u001b[0m \u001b[1;34m'(min)'\u001b[0m\u001b[1;33m)\u001b[0m\u001b[1;33m\u001b[0m\u001b[1;33m\u001b[0m\u001b[0m\n\u001b[0m\u001b[0;32m      2\u001b[0m \u001b[0mprint\u001b[0m\u001b[1;33m(\u001b[0m\u001b[1;34m'Total distance:'\u001b[0m\u001b[1;33m,\u001b[0m \u001b[0mvalue\u001b[0m\u001b[1;33m(\u001b[0m\u001b[0mprob\u001b[0m\u001b[1;33m.\u001b[0m\u001b[0mobjective\u001b[0m\u001b[1;33m)\u001b[0m\u001b[1;33m,\u001b[0m \u001b[1;34m'(km)'\u001b[0m\u001b[1;33m)\u001b[0m\u001b[1;33m\u001b[0m\u001b[1;33m\u001b[0m\u001b[0m\n",
      "\u001b[1;31mNameError\u001b[0m: name 'totalTime' is not defined"
     ]
    }
   ],
   "source": [
    "print('Longest time spent:', totalTime, '(min)')\n",
    "print('Total distance:', value(prob.objective), '(km)')"
   ]
  },
  {
   "cell_type": "code",
   "execution_count": 30,
   "metadata": {},
   "outputs": [
    {
     "data": {
      "text/plain": [
       "<Figure size 432x288 with 0 Axes>"
      ]
     },
     "metadata": {},
     "output_type": "display_data"
    }
   ],
   "source": [
    "plt.savefig('my_plot.png')"
   ]
  },
  {
   "cell_type": "code",
   "execution_count": null,
   "metadata": {},
   "outputs": [],
   "source": []
  },
  {
   "cell_type": "code",
   "execution_count": null,
   "metadata": {},
   "outputs": [],
   "source": []
  },
  {
   "cell_type": "code",
   "execution_count": null,
   "metadata": {},
   "outputs": [],
   "source": []
  }
 ],
 "metadata": {
  "kernelspec": {
   "display_name": "Python 3",
   "language": "python",
   "name": "python3"
  },
  "language_info": {
   "codemirror_mode": {
    "name": "ipython",
    "version": 3
   },
   "file_extension": ".py",
   "mimetype": "text/x-python",
   "name": "python",
   "nbconvert_exporter": "python",
   "pygments_lexer": "ipython3",
   "version": "3.7.4"
  }
 },
 "nbformat": 4,
 "nbformat_minor": 2
}
