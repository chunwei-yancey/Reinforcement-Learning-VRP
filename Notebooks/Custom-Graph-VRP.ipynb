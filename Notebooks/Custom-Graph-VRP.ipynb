{
 "cells": [
  {
   "cell_type": "code",
   "execution_count": 1,
   "id": "b5ecffda",
   "metadata": {},
   "outputs": [],
   "source": [
    "import torch\n",
    "import numpy as np\n",
    "import os #NEW LINE\n",
    "import gym\n",
    "import inspect\n",
    "from stable_baselines3 import PPO, A2C, SAC\n",
    "from stable_baselines3.common.vec_env import DummyVecEnv\n",
    "from stable_baselines3.common.evaluation import evaluate_policy\n",
    "from tensorflow.python.client import device_lib\n",
    "from stable_baselines3.common.callbacks import EvalCallback, StopTrainingOnRewardThreshold"
   ]
  },
  {
   "cell_type": "code",
   "execution_count": 2,
   "id": "7c352a52",
   "metadata": {},
   "outputs": [
    {
     "name": "stdout",
     "output_type": "stream",
     "text": [
      "CartPole-v0\n",
      "CartPole-v1\n",
      "MountainCar-v0\n",
      "MountainCarContinuous-v0\n",
      "Pendulum-v1\n",
      "Acrobot-v1\n",
      "LunarLander-v2\n",
      "LunarLanderContinuous-v2\n",
      "BipedalWalker-v3\n",
      "BipedalWalkerHardcore-v3\n",
      "CarRacing-v0\n",
      "Blackjack-v1\n",
      "FrozenLake-v1\n",
      "FrozenLake8x8-v1\n",
      "CliffWalking-v0\n",
      "Taxi-v3\n",
      "Reacher-v2\n",
      "Pusher-v2\n",
      "Thrower-v2\n",
      "Striker-v2\n",
      "InvertedPendulum-v2\n",
      "InvertedDoublePendulum-v2\n",
      "HalfCheetah-v2\n",
      "HalfCheetah-v3\n",
      "Hopper-v2\n",
      "Hopper-v3\n",
      "Swimmer-v2\n",
      "Swimmer-v3\n",
      "Walker2d-v2\n",
      "Walker2d-v3\n",
      "Ant-v2\n",
      "Ant-v3\n",
      "Humanoid-v2\n",
      "Humanoid-v3\n",
      "HumanoidStandup-v2\n",
      "FetchSlide-v1\n",
      "FetchPickAndPlace-v1\n",
      "FetchReach-v1\n",
      "FetchPush-v1\n",
      "HandReach-v0\n",
      "HandManipulateBlockRotateZ-v0\n",
      "HandManipulateBlockRotateZTouchSensors-v0\n",
      "HandManipulateBlockRotateZTouchSensors-v1\n",
      "HandManipulateBlockRotateParallel-v0\n",
      "HandManipulateBlockRotateParallelTouchSensors-v0\n",
      "HandManipulateBlockRotateParallelTouchSensors-v1\n",
      "HandManipulateBlockRotateXYZ-v0\n",
      "HandManipulateBlockRotateXYZTouchSensors-v0\n",
      "HandManipulateBlockRotateXYZTouchSensors-v1\n",
      "HandManipulateBlockFull-v0\n",
      "HandManipulateBlock-v0\n",
      "HandManipulateBlockTouchSensors-v0\n",
      "HandManipulateBlockTouchSensors-v1\n",
      "HandManipulateEggRotate-v0\n",
      "HandManipulateEggRotateTouchSensors-v0\n",
      "HandManipulateEggRotateTouchSensors-v1\n",
      "HandManipulateEggFull-v0\n",
      "HandManipulateEgg-v0\n",
      "HandManipulateEggTouchSensors-v0\n",
      "HandManipulateEggTouchSensors-v1\n",
      "HandManipulatePenRotate-v0\n",
      "HandManipulatePenRotateTouchSensors-v0\n",
      "HandManipulatePenRotateTouchSensors-v1\n",
      "HandManipulatePenFull-v0\n",
      "HandManipulatePen-v0\n",
      "HandManipulatePenTouchSensors-v0\n",
      "HandManipulatePenTouchSensors-v1\n",
      "FetchSlideDense-v1\n",
      "FetchPickAndPlaceDense-v1\n",
      "FetchReachDense-v1\n",
      "FetchPushDense-v1\n",
      "HandReachDense-v0\n",
      "HandManipulateBlockRotateZDense-v0\n",
      "HandManipulateBlockRotateZTouchSensorsDense-v0\n",
      "HandManipulateBlockRotateZTouchSensorsDense-v1\n",
      "HandManipulateBlockRotateParallelDense-v0\n",
      "HandManipulateBlockRotateParallelTouchSensorsDense-v0\n",
      "HandManipulateBlockRotateParallelTouchSensorsDense-v1\n",
      "HandManipulateBlockRotateXYZDense-v0\n",
      "HandManipulateBlockRotateXYZTouchSensorsDense-v0\n",
      "HandManipulateBlockRotateXYZTouchSensorsDense-v1\n",
      "HandManipulateBlockFullDense-v0\n",
      "HandManipulateBlockDense-v0\n",
      "HandManipulateBlockTouchSensorsDense-v0\n",
      "HandManipulateBlockTouchSensorsDense-v1\n",
      "HandManipulateEggRotateDense-v0\n",
      "HandManipulateEggRotateTouchSensorsDense-v0\n",
      "HandManipulateEggRotateTouchSensorsDense-v1\n",
      "HandManipulateEggFullDense-v0\n",
      "HandManipulateEggDense-v0\n",
      "HandManipulateEggTouchSensorsDense-v0\n",
      "HandManipulateEggTouchSensorsDense-v1\n",
      "HandManipulatePenRotateDense-v0\n",
      "HandManipulatePenRotateTouchSensorsDense-v0\n",
      "HandManipulatePenRotateTouchSensorsDense-v1\n",
      "HandManipulatePenFullDense-v0\n",
      "HandManipulatePenDense-v0\n",
      "HandManipulatePenTouchSensorsDense-v0\n",
      "HandManipulatePenTouchSensorsDense-v1\n",
      "CubeCrash-v0\n",
      "CubeCrashSparse-v0\n",
      "CubeCrashScreenBecomesBlack-v0\n",
      "MemorizeDigits-v0\n"
     ]
    }
   ],
   "source": [
    "from gym import envs\n",
    "all_envs = envs.registry.all()\n",
    "env_ids = [env_spec.id for env_spec in all_envs]\n",
    "for id in env_ids:\n",
    "    print(id)"
   ]
  },
  {
   "cell_type": "code",
   "execution_count": 3,
   "id": "a252252d",
   "metadata": {},
   "outputs": [
    {
     "name": "stdout",
     "output_type": "stream",
     "text": [
      "[name: \"/device:CPU:0\"\n",
      "device_type: \"CPU\"\n",
      "memory_limit: 268435456\n",
      "locality {\n",
      "}\n",
      "incarnation: 14602792195779885009\n",
      "xla_global_id: -1\n",
      "]\n"
     ]
    }
   ],
   "source": [
    "print(device_lib.list_local_devices())"
   ]
  },
  {
   "cell_type": "code",
   "execution_count": 4,
   "id": "489676d3",
   "metadata": {},
   "outputs": [],
   "source": [
    "from gym_vrp.envs import IRPEnv\n",
    "from agents import IRPAgent\n",
    "\n",
    "# Init the environment\n",
    "environment_name = \"Capacitated-VRP-Environment\"\n",
    "env = IRPEnv(num_nodes=20, batch_size=512)"
   ]
  },
  {
   "cell_type": "code",
   "execution_count": 5,
   "id": "4e187ca1",
   "metadata": {},
   "outputs": [],
   "source": [
    "sequence = list(range(0, 1111))"
   ]
  },
  {
   "cell_type": "code",
   "execution_count": 6,
   "id": "4443ed64",
   "metadata": {},
   "outputs": [
    {
     "data": {
      "text/plain": [
       "[('__bool__',\n",
       "  <method-wrapper '__bool__' of NoneType object at 0x00007FF927F39AC0>),\n",
       " ('__class__', NoneType),\n",
       " ('__delattr__',\n",
       "  <method-wrapper '__delattr__' of NoneType object at 0x00007FF927F39AC0>),\n",
       " ('__dir__', <function NoneType.__dir__(self, /)>),\n",
       " ('__doc__', None),\n",
       " ('__eq__',\n",
       "  <method-wrapper '__eq__' of NoneType object at 0x00007FF927F39AC0>),\n",
       " ('__format__', <function NoneType.__format__(self, format_spec, /)>),\n",
       " ('__ge__',\n",
       "  <method-wrapper '__ge__' of NoneType object at 0x00007FF927F39AC0>),\n",
       " ('__getattribute__',\n",
       "  <method-wrapper '__getattribute__' of NoneType object at 0x00007FF927F39AC0>),\n",
       " ('__gt__',\n",
       "  <method-wrapper '__gt__' of NoneType object at 0x00007FF927F39AC0>),\n",
       " ('__hash__',\n",
       "  <method-wrapper '__hash__' of NoneType object at 0x00007FF927F39AC0>),\n",
       " ('__init__',\n",
       "  <method-wrapper '__init__' of NoneType object at 0x00007FF927F39AC0>),\n",
       " ('__init_subclass__', <function NoneType.__init_subclass__>),\n",
       " ('__le__',\n",
       "  <method-wrapper '__le__' of NoneType object at 0x00007FF927F39AC0>),\n",
       " ('__lt__',\n",
       "  <method-wrapper '__lt__' of NoneType object at 0x00007FF927F39AC0>),\n",
       " ('__ne__',\n",
       "  <method-wrapper '__ne__' of NoneType object at 0x00007FF927F39AC0>),\n",
       " ('__new__', <function NoneType.__new__(*args, **kwargs)>),\n",
       " ('__reduce__', <function NoneType.__reduce__(self, /)>),\n",
       " ('__reduce_ex__', <function NoneType.__reduce_ex__(self, protocol, /)>),\n",
       " ('__repr__',\n",
       "  <method-wrapper '__repr__' of NoneType object at 0x00007FF927F39AC0>),\n",
       " ('__setattr__',\n",
       "  <method-wrapper '__setattr__' of NoneType object at 0x00007FF927F39AC0>),\n",
       " ('__sizeof__', <function NoneType.__sizeof__(self, /)>),\n",
       " ('__str__',\n",
       "  <method-wrapper '__str__' of NoneType object at 0x00007FF927F39AC0>),\n",
       " ('__subclasshook__', <function NoneType.__subclasshook__>)]"
      ]
     },
     "execution_count": 6,
     "metadata": {},
     "output_type": "execute_result"
    }
   ],
   "source": [
    "inspect.getmembers(env.action_space)"
   ]
  },
  {
   "cell_type": "code",
   "execution_count": 7,
   "id": "f93d374a",
   "metadata": {},
   "outputs": [],
   "source": [
    "import time\n",
    "import random\n",
    "\n",
    "from IPython.display import display, clear_output\n",
    "\n",
    "episodes = 5\n",
    "actions = np.ndarray([])\n",
    "for episode in range(1, episodes+1):\n",
    "    state = env.reset()\n",
    "    done = False\n",
    "    score = 0 \n",
    "    \n",
    "    while not done:\n",
    "        #env.render()\n",
    "        time.sleep(0.1)\n",
    "        actions = env.current_location\n",
    "        n_state, reward, terminated, truncated= env.step(actions)\n",
    "        #print(n_state)\n",
    "        score+=reward\n",
    "        done = truncated or terminated \n",
    "    clear_output()\n",
    "    env.render()\n",
    "    print('Episode:{} Score:{}'.format(episode, score))\n",
    "env.close()"
   ]
  },
  {
   "cell_type": "code",
   "execution_count": null,
   "id": "974de194",
   "metadata": {},
   "outputs": [],
   "source": [
    "print(env.action_space)"
   ]
  },
  {
   "cell_type": "code",
   "execution_count": null,
   "id": "7ed455e9",
   "metadata": {},
   "outputs": [],
   "source": [
    "import time"
   ]
  },
  {
   "cell_type": "code",
   "execution_count": null,
   "id": "675dc7d6",
   "metadata": {},
   "outputs": [],
   "source": [
    "from agents import IRPAgent\n",
    "# Init the agent\n",
    "agent = IRPAgent()\n",
    "# Start training\n",
    "agent.train(env)\n",
    "for i in range(99):\n",
    "    clear_output()\n",
    "    display(env.render())\n",
    "    time.sleep(0.01)"
   ]
  },
  {
   "cell_type": "code",
   "execution_count": null,
   "id": "cc5b510e",
   "metadata": {},
   "outputs": [],
   "source": [
    "#Defines the 'agent'\n",
    "log_path = 'train_logs'\n",
    "model = PPO('MlpPolicy', env, verbose = 1, tensorboard_log=log_path)"
   ]
  },
  {
   "cell_type": "code",
   "execution_count": null,
   "id": "694397c4",
   "metadata": {},
   "outputs": [],
   "source": [
    "#Re-running this training will accumulate\n",
    "model.learn(total_timesteps=20000)"
   ]
  }
 ],
 "metadata": {
  "kernelspec": {
   "display_name": "Python 3 (ipykernel)",
   "language": "python",
   "name": "python3"
  },
  "language_info": {
   "codemirror_mode": {
    "name": "ipython",
    "version": 3
   },
   "file_extension": ".py",
   "mimetype": "text/x-python",
   "name": "python",
   "nbconvert_exporter": "python",
   "pygments_lexer": "ipython3",
   "version": "3.9.13"
  }
 },
 "nbformat": 4,
 "nbformat_minor": 5
}
